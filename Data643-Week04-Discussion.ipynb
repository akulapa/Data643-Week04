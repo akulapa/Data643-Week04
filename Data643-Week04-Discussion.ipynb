{
 "cells": [
  {
   "cell_type": "markdown",
   "metadata": {},
   "source": [
    "### Research Discussion Assignment 3: High Frequency Trading \n",
    "\n",
    "_Pavan Akula_\n",
    "\n",
    "George Dvorsky is a senior staff reporter at _Gizmodo_, wrote an article \"How Much Longer Before Our First AI Catastrophe?\" in April 2013. The article talks about weak and narrow artificial intelligence. Quoting the author, \n",
    " \n",
    "    \"Narrow AI could knock out our electric grid, damage a nuclear power plants, cause a global-scale economic collapse, misdirect autonomous vehicles and robots, take control of a factory or military installation, or unleash some kind of propagating blight that will be difficult to get rid of (whether in the digital realm or the real world). The possibilities are frighteningly endless.\"\n",
    "\n",
    "Part of the article that caught my attention is high-frequency trading, where the author explains how HFT caused _Flash Crash_ on May 5th, 2010. This phenomenon repeated itself on Feb 5th, 2018; Dow plunged almost 1,600 points -- easily a significant point decline in history during a trading day. It also had a ripple effect around the globe. Japan's _Nikkei index_ plunged 4% while the _S&P/ASX 200_ in Australia dropped 3%. Many financial websites and newspapers blamed the crash on computer glitch while some pundits explained concerning inflation and interest rates. Andres Garcia-Amaya, CEO of wealth management firm Zoe Financial said, the stock market is throwing a tantrum, but nothing has changed from a fundamental standpoint.\n",
    "\n",
    "Part of my brain wants to believe there is some connection between dates. While data analyst in me agrees with the author that weak and narrow AI can cause havoc in financial markets and negatively impact our daily lives. Quote from article,\n",
    "\n",
    "    \"the result of the new dynamics at play in the current market structure,\" and the role played by \"order toxicity.\" At the same time, however, they noted that HFT traders exhibited trading patterns inconsistent with the traditional definition of market making and that they were \"aggressively [trading] in the direction of price changes.\"\n",
    "\n",
    "We can see recommender system at play when HFT system identified toxic orders; it presented sell recommendation to traders. Narrow and weak part is traders, and financial institutions were interested in protecting their personal interests. Article on Whorton.upenn.edu website explains how broker takes advantage of HFT, in the textbook example, a broker receives a customer’s order to buy a stock for up to \\$10 a share. The broker buys the shares at the market price of \\$9.75 and sells them to his customer at \\$10, cheating the customer out of 25 cents a share. Flash orders can do the same thing, much faster and more often. A case study by sevenpillarsinstitute.org showed how Trillium Capital, an NYC based firm manipulated the market. \n",
    "\n",
    "To conclude, HFT misuse may be hard to detect, but the consequences can be severe, affecting many small investors.\n",
    " \n",
    "#### References\n",
    "\n",
    "- https://io9.gizmodo.com/how-much-longer-before-our-first-ai-catastrophe-464043243\n",
    "- https://io9.gizmodo.com/5534848/what-is-the-singularity-and-will-you-live-to-see-it\n",
    "- http://money.cnn.com/2018/02/05/news/companies/dow-800-points-10-minutes/index.html\n",
    "- https://sevenpillarsinstitute.org/case-studies/high-frequency-trading/\n",
    "- http://knowledge.wharton.upenn.edu/article/the-impact-of-high-frequency-trading-manipulation-distortion-or-a-better-functioning-market/\n",
    "- http://www.businessinsider.com/huge-first-high-frequency-trading-firm-is-charged-with-quote-stuffing-and-manipulation-2010-9\n",
    "- https://www.forbes.com/sites/emilylambert/2010/09/16/about-that-high-frequency-crackdown/#45fafd9a49d2"
   ]
  }
 ],
 "metadata": {
  "kernelspec": {
   "display_name": "Python 3",
   "language": "python",
   "name": "python3"
  },
  "language_info": {
   "codemirror_mode": {
    "name": "ipython",
    "version": 3
   },
   "file_extension": ".py",
   "mimetype": "text/x-python",
   "name": "python",
   "nbconvert_exporter": "python",
   "pygments_lexer": "ipython3",
   "version": "3.6.5"
  }
 },
 "nbformat": 4,
 "nbformat_minor": 2
}
